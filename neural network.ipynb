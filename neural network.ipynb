{
 "cells": [
  {
   "cell_type": "code",
   "execution_count": 47,
   "metadata": {},
   "outputs": [],
   "source": [
    "#skeleton of the code\n",
    "\n",
    "import numpy\n",
    "import scipy.special\n",
    "\n",
    "class neural_network:\n",
    "    \n",
    "    def __init__(self,input_nodes,hidden_nodes,output_nodes,learning_rate):\n",
    "     self.inodes=input_nodes\n",
    "     self.hnodes=hidden_nodes\n",
    "     self.onodes=output_nodes\n",
    "     self.lr= learning_rate\n",
    "     self.wih=numpy.random.normal(0.0,pow(self.hnodes,-0.5),(self.hnodes,self.inodes))\n",
    "     self.who=numpy.random.normal(0.0,pow(self.onodes,-0.5),(self.onodes,self.hnodes))\n",
    "     self.activation_function= lambda x:scipy.special.expit(x)\n",
    "    pass\n",
    "\n",
    "    def train(self,input_list,target_list):\n",
    "        \n",
    "        inputs=numpy.array(input_list,ndmin=2).T\n",
    "        target=numpy.array(target_list,ndmin=2).T\n",
    "        \n",
    "        hidden_input=numpy.dot(self.wih,inputs)\n",
    "        hidden_output=self.activation_function(hidden_input)\n",
    "        \n",
    "        final_input=numpy.dot(self.who,hidden_output)\n",
    "        final_output=self.activation_function(final_input)\n",
    "        \n",
    "        #errors\n",
    "        \n",
    "        output_error= target-final_output\n",
    "        hidden_error=numpy.dot(self.who.T,output_error)\n",
    "        input_error=numpy.dot(self.wih.T,hidden_error)\n",
    "        \n",
    "        self.who+=self.lr*numpy.dot(output_error*final_output*(1.0-final_output),numpy.transpose(hidden_output))\n",
    "        self.wih+=self.lr*numpy.dot(hidden_error*hidden_output*(1.0-hidden_output),numpy.transpose(inputs)) \n",
    "        \n",
    "    pass\n",
    "\n",
    "    def query(self,input_list):\n",
    "        \n",
    "        inputs=numpy.array(input_list,ndmin=2).T\n",
    "        \n",
    "        hidden_input=numpy.dot(self.wih,inputs)\n",
    "        hidden_output=self.activation_function(hidden_input)\n",
    "        \n",
    "        final_input=numpy.dot(self.who,hidden_output)\n",
    "        final_output=self.activation_function(final_input)\n",
    "        \n",
    "        return final_output\n",
    "      \n",
    "    \n",
    "    pass                                   "
   ]
  },
  {
   "cell_type": "code",
   "execution_count": 67,
   "metadata": {},
   "outputs": [
    {
     "name": "stderr",
     "output_type": "stream",
     "text": [
      "IOPub data rate exceeded.\n",
      "The notebook server will temporarily stop sending output\n",
      "to the client in order to avoid crashing it.\n",
      "To change this limit, set the config variable\n",
      "`--NotebookApp.iopub_data_rate_limit`.\n",
      "\n",
      "Current values:\n",
      "NotebookApp.iopub_data_rate_limit=1000000.0 (bytes/sec)\n",
      "NotebookApp.rate_limit_window=3.0 (secs)\n",
      "\n"
     ]
    }
   ],
   "source": [
    "#accessing the MNIST database\n",
    "\n",
    "data_file=open(\"C:\\\\Users\\\\yash\\\\Desktop\\\\Python\\\\mnist_train.csv\",'r')\n",
    "data_list=data_file.readlines()\n",
    "data_file.close()\n",
    "\n",
    "print(data_list)\n"
   ]
  },
  {
   "cell_type": "code",
   "execution_count": null,
   "metadata": {},
   "outputs": [],
   "source": [
    "#plotting one element of data_list\n",
    "\n",
    "import numpy\n",
    "import matplotlib.pyplot\n",
    "\n",
    "all_values=data_list[1].split(',')\n",
    "image_array=numpy.asfarray(all_values[1:]).reshape(28,28)\n",
    "matplotlib.pyplot.imshow(image_array,cmap=\"Greys\",interpolation=\"none\")\n"
   ]
  },
  {
   "cell_type": "code",
   "execution_count": null,
   "metadata": {},
   "outputs": [],
   "source": [
    "#constructing and rescaling inputs\n",
    " \n",
    "scaled_inputs=(numpy.asfarray(all_values[1:])/255*0.99) +0.01\n",
    "print(scaled_inputs)"
   ]
  },
  {
   "cell_type": "code",
   "execution_count": null,
   "metadata": {},
   "outputs": [],
   "source": [
    "# contructing the target matrix\n",
    "\n",
    "onodes=10\n",
    "target_matrix=numpy.zeros(onodes)+0.01\n",
    "target_matrix[int(all_values[0])]=0.99\n",
    "\n",
    "print(target_matrix)"
   ]
  },
  {
   "cell_type": "code",
   "execution_count": null,
   "metadata": {},
   "outputs": [],
   "source": [
    "#creating an instance of neural network \n",
    "n=neural_network(784,100,10,0.25)\n",
    "n.train(scaled_inputs,target_matrix)\n",
    "n.query(scaled_inputs)"
   ]
  },
  {
   "cell_type": "code",
   "execution_count": 49,
   "metadata": {},
   "outputs": [
    {
     "ename": "NameError",
     "evalue": "name 'data_list' is not defined",
     "output_type": "error",
     "traceback": [
      "\u001b[1;31m---------------------------------------------------------------------------\u001b[0m",
      "\u001b[1;31mNameError\u001b[0m                                 Traceback (most recent call last)",
      "\u001b[1;32m<ipython-input-49-45da03db23dd>\u001b[0m in \u001b[0;36m<module>\u001b[1;34m\u001b[0m\n\u001b[0;32m      2\u001b[0m \u001b[0mscorecard\u001b[0m\u001b[1;33m=\u001b[0m\u001b[1;33m[\u001b[0m\u001b[1;33m]\u001b[0m\u001b[1;33m\u001b[0m\u001b[1;33m\u001b[0m\u001b[0m\n\u001b[0;32m      3\u001b[0m \u001b[1;33m\u001b[0m\u001b[0m\n\u001b[1;32m----> 4\u001b[1;33m \u001b[1;32mfor\u001b[0m \u001b[0mrecord\u001b[0m \u001b[1;32min\u001b[0m \u001b[0mdata_list\u001b[0m\u001b[1;33m:\u001b[0m\u001b[1;33m\u001b[0m\u001b[1;33m\u001b[0m\u001b[0m\n\u001b[0m\u001b[0;32m      5\u001b[0m     \u001b[0mall_values\u001b[0m\u001b[1;33m=\u001b[0m\u001b[0mrecord\u001b[0m\u001b[1;33m.\u001b[0m\u001b[0msplit\u001b[0m\u001b[1;33m(\u001b[0m\u001b[1;34m','\u001b[0m\u001b[1;33m)\u001b[0m\u001b[1;33m\u001b[0m\u001b[1;33m\u001b[0m\u001b[0m\n\u001b[0;32m      6\u001b[0m     \u001b[0mcorrect_label\u001b[0m\u001b[1;33m=\u001b[0m\u001b[0mint\u001b[0m\u001b[1;33m(\u001b[0m\u001b[0mall_values\u001b[0m\u001b[1;33m[\u001b[0m\u001b[1;36m0\u001b[0m\u001b[1;33m]\u001b[0m\u001b[1;33m)\u001b[0m\u001b[1;33m\u001b[0m\u001b[1;33m\u001b[0m\u001b[0m\n",
      "\u001b[1;31mNameError\u001b[0m: name 'data_list' is not defined"
     ]
    }
   ],
   "source": [
    "#scorecard and running through all records/elements of the database\n",
    "scorecard=[]\n",
    "\n",
    "for record in data_list:\n",
    "    all_values=record.split(',')\n",
    "    correct_label=int(all_values[0])\n",
    "    print(correct_label,\"correct label\")\n",
    "    \n",
    "    inputs=(numpy.asfarray(all_values[1:])/255*0.99)+0.01\n",
    "    \n",
    "    outputs=n.query(inputs)\n",
    "    \n",
    "    label=numpy.argmax(outputs)\n",
    "    print(label,\"networks ans\")\n",
    "    \n",
    "    if (label==correct_label):\n",
    "     scorecard.append(1)\n",
    "        \n",
    "    else:\n",
    "     scorecard.append(0)\n",
    "    pass\n",
    "    "
   ]
  },
  {
   "cell_type": "code",
   "execution_count": 50,
   "metadata": {},
   "outputs": [
    {
     "name": "stdout",
     "output_type": "stream",
     "text": [
      "[]\n"
     ]
    }
   ],
   "source": [
    "print(scorecard)"
   ]
  },
  {
   "cell_type": "code",
   "execution_count": 113,
   "metadata": {},
   "outputs": [
    {
     "name": "stdout",
     "output_type": "stream",
     "text": [
      "performance=  0.09978333333333333\n"
     ]
    }
   ],
   "source": [
    "scorecard_array=numpy.asarray(scorecard)\n",
    "print(\"performance= \",scorecard_array.sum()/scorecard_array.size)"
   ]
  },
  {
   "cell_type": "code",
   "execution_count": 118,
   "metadata": {},
   "outputs": [],
   "source": [
    "#training with epochs\n",
    "\n",
    "epochs=10\n",
    "for e in range(epochs):\n",
    "    for record in data_list:\n",
    "        all_values=record.split(\",\")\n",
    "        inputs= (numpy.asfarray(all_values[1:])/255*0.99 )+ 0.01\n",
    "        \n",
    "        targets=numpy.zeros(onodes)+0.01\n",
    "        targets[int(all_values[0])]=0.99\n",
    "        n.train(inputs,targets)\n",
    "        n.query(inputs)\n",
    "        pass\n",
    "    pass"
   ]
  }
 ],
 "metadata": {
  "kernelspec": {
   "display_name": "Python 3",
   "language": "python",
   "name": "python3"
  },
  "language_info": {
   "codemirror_mode": {
    "name": "ipython",
    "version": 3
   },
   "file_extension": ".py",
   "mimetype": "text/x-python",
   "name": "python",
   "nbconvert_exporter": "python",
   "pygments_lexer": "ipython3",
   "version": "3.8.5"
  }
 },
 "nbformat": 4,
 "nbformat_minor": 4
}
